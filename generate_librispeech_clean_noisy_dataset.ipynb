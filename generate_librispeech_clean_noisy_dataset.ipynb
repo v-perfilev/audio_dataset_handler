{
 "cells": [
  {
   "metadata": {},
   "cell_type": "code",
   "source": [
    "import os\n",
    "import pickle\n",
    "import random\n",
    "\n",
    "import lmdb\n",
    "\n",
    "from datasets.lmdb_clean_noisy_dataset import LmdbCleanNoisyDataset\n",
    "from utils.audio_utils import spectrogram_to_waveform, load_waveform, \\\n",
    "  mix_waveforms, \\\n",
    "  divide_waveform, waveform_to_spectrogram\n",
    "from utils.denoise_utils import denoise_waveform\n",
    "from utils.file_utils import get_file_paths\n",
    "from utils.plot_utils import show_spectrogram, show_waveform"
   ],
   "id": "initial_id",
   "outputs": [],
   "execution_count": null
  },
  {
   "cell_type": "code",
   "source": [
    "# REQUIREMENTS\n",
    "# download source files in ../audio_data\n",
    "# install ffmpeg\n",
    "\n",
    "data_dir = '../_audio_data'\n",
    "clean_dir = '/LibriSpeech/train-clean-100'\n",
    "sound_dir = '/ESC-50-master/audio'\n",
    "\n",
    "output_dir = '../_datasets/'\n",
    "os.makedirs(output_dir, exist_ok=True)\n",
    "output_lmdb_path = output_dir + \"librispeech_clean_noisy_dataset.lmdb\"\n",
    "\n",
    "files_count = 10000000"
   ],
   "metadata": {
    "collapsed": false
   },
   "id": "b3adc5281ecfcb1",
   "outputs": [],
   "execution_count": null
  },
  {
   "cell_type": "code",
   "source": [
    "clean_path = os.path.abspath(data_dir + clean_dir)\n",
    "clean_files = get_file_paths([clean_path], 'flac')\n",
    "clean_files = clean_files[:files_count]"
   ],
   "metadata": {
    "collapsed": false
   },
   "id": "556b6af213a33197",
   "outputs": [],
   "execution_count": null
  },
  {
   "cell_type": "code",
   "source": [
    "sounds_path = os.path.abspath(data_dir + sound_dir)\n",
    "sound_files = get_file_paths([sounds_path], 'wav')"
   ],
   "metadata": {
    "collapsed": false
   },
   "id": "38c6fd8e02fc584d",
   "outputs": [],
   "execution_count": null
  },
  {
   "metadata": {},
   "cell_type": "code",
   "source": [
    "env = lmdb.open(output_lmdb_path, map_size=int(100e9))\n",
    "\n",
    "counter = 0\n",
    "\n",
    "with env.begin(write=True) as txn:\n",
    "  for idx, clean_file in enumerate(clean_files):\n",
    "    sound_file = random.choice(sound_files)\n",
    "    clean_sample, clean_rate = load_waveform(clean_file)\n",
    "    sound_sample, _ = load_waveform(sound_file)\n",
    "\n",
    "    background_volume = random.choice([i / 10 + 0.5 for i in range(0, 5)])\n",
    "    noisy_sample = mix_waveforms(clean_sample, sound_sample, background_volume)\n",
    "\n",
    "    clean_sample = denoise_waveform(clean_sample, clean_rate)\n",
    "\n",
    "    clean_chunks = divide_waveform(clean_sample)\n",
    "    noisy_chunks = divide_waveform(noisy_sample)\n",
    "\n",
    "    for clean_chunk, noisy_chunk in zip(clean_chunks, noisy_chunks):\n",
    "      clean_spectrogram = waveform_to_spectrogram(clean_chunk)\n",
    "      noisy_spectrogram = waveform_to_spectrogram(noisy_chunk)\n",
    "\n",
    "      data_pair = {\n",
    "        \"noisy\": noisy_spectrogram,\n",
    "        \"clean\": clean_spectrogram\n",
    "      }\n",
    "      key = f\"spectrogram_{counter:06d}\".encode(\"ascii\")\n",
    "      txn.put(key, pickle.dumps(data_pair))\n",
    "      counter += 1\n",
    "\n",
    "    if (idx + 1) % 100 == 0:\n",
    "      print(f\"Processed {idx + 1}/{len(clean_files)} files. Total spectrograms: {counter}\")\n",
    "\n",
    "print(f\"Total spectrograms: {counter}\")"
   ],
   "id": "1c5cde17798d5e48",
   "outputs": [],
   "execution_count": null
  },
  {
   "metadata": {},
   "cell_type": "code",
   "source": [
    "dataset = LmdbCleanNoisyDataset(output_lmdb_path)\n",
    "idx = random.randint(0, 100)\n",
    "clean_spectrogram = dataset.__getitem__(idx)[1]\n",
    "noisy_spectrogram = dataset.__getitem__(idx)[0]"
   ],
   "id": "97681d3d3e3811f6",
   "outputs": [],
   "execution_count": null
  },
  {
   "metadata": {},
   "cell_type": "code",
   "source": [
    "clean_waveform = spectrogram_to_waveform(clean_spectrogram)\n",
    "noisy_waveform = spectrogram_to_waveform(noisy_spectrogram)"
   ],
   "id": "3de1af662512918e",
   "outputs": [],
   "execution_count": null
  },
  {
   "metadata": {},
   "cell_type": "code",
   "source": [
    "show_spectrogram(clean_waveform, \"Clean spectrogram\")\n",
    "show_spectrogram(noisy_waveform, \"Noisy spectrogram\")"
   ],
   "id": "b56fad8fbd4e2c35",
   "outputs": [],
   "execution_count": null
  },
  {
   "metadata": {},
   "cell_type": "code",
   "source": [
    "show_waveform(clean_waveform, \"Clean waveform\")\n",
    "show_waveform(noisy_waveform, \"Noisy waveform\")"
   ],
   "id": "8877560b2e0873ad",
   "outputs": [],
   "execution_count": null
  }
 ],
 "metadata": {
  "kernelspec": {
   "display_name": "Python 3",
   "language": "python",
   "name": "python3"
  },
  "language_info": {
   "codemirror_mode": {
    "name": "ipython",
    "version": 2
   },
   "file_extension": ".py",
   "mimetype": "text/x-python",
   "name": "python",
   "nbconvert_exporter": "python",
   "pygments_lexer": "ipython2",
   "version": "2.7.6"
  }
 },
 "nbformat": 4,
 "nbformat_minor": 5
}
