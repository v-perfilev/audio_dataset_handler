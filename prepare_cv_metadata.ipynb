{
 "cells": [
  {
   "cell_type": "code",
   "execution_count": null,
   "id": "initial_id",
   "metadata": {
    "collapsed": true
   },
   "outputs": [],
   "source": [
    "import os\n",
    "\n",
    "import pandas as pd\n",
    "from phonemizer import phonemize\n",
    "from tqdm.auto import tqdm\n",
    "\n",
    "tqdm.pandas()"
   ]
  },
  {
   "cell_type": "code",
   "outputs": [],
   "source": [
    "# REQUIREMENTS\n",
    "# download source files in ../audio_data\n",
    "# install espeak and set the variable espeak_path\n",
    "\n",
    "languages = [\"en\", \"de\", \"ru\"]\n",
    "\n",
    "source_path = \"../_audio_data/\"\n",
    "output_dir = \"target/\"\n",
    "os.makedirs(output_dir, exist_ok=True)\n",
    "output_file_name = output_dir + \"cv_metadata.tsv\"\n",
    "\n",
    "min_up_votes = 2\n",
    "max_down_votes = 0\n",
    "limit_per_language = 2000\n",
    "\n",
    "espeak_path = '/opt/homebrew/Cellar/espeak/1.48.04_1/lib/libespeak.dylib'"
   ],
   "metadata": {
    "collapsed": false
   },
   "id": "cdc1653c2a5651ff",
   "execution_count": null
  },
  {
   "cell_type": "code",
   "outputs": [],
   "source": [
    "os.environ['PHONEMIZER_ESPEAK_LIBRARY'] = espeak_path"
   ],
   "metadata": {
    "collapsed": false
   },
   "id": "8edd40b9cd7cc4a9",
   "execution_count": null
  },
  {
   "cell_type": "code",
   "outputs": [],
   "source": [
    "def get_source_metadata(lang):\n",
    "    source_metadata_path = os.path.abspath(source_path + \"cv-{}/validated.tsv\".format(lang))\n",
    "    return pd.read_csv(source_metadata_path, delimiter='\\t')\n",
    "\n",
    "\n",
    "def handle_source_metadata(lang, meta):\n",
    "    print(\"Processing lang: {}\".format(lang))\n",
    "\n",
    "    rows = meta[(meta['down_votes'] <= max_down_votes) & (meta['up_votes'] >= min_up_votes)]\n",
    "    rows = rows.sort_values(by='up_votes', ascending=False).head(limit_per_language)\n",
    "    rows = rows[[\"path\", \"sentence\"]]\n",
    "    rows['lang'] = lang\n",
    "\n",
    "    print(\"Processing 'path' for lang: {}\".format(lang))\n",
    "    rows['path'] = rows.progress_apply(lambda row: prepare_path(lang, row['path']), axis=1)\n",
    "\n",
    "    print(\"Processing 'phoneme_count' for lang: {}\".format(lang))\n",
    "    rows['phoneme_count'] = rows.progress_apply(lambda row: count_phonemes(lang, row['sentence']), axis=1)\n",
    "\n",
    "    return rows\n",
    "\n",
    "\n",
    "def prepare_path(lang, file_name):\n",
    "    if not file_name.endswith(\".mp3\"):\n",
    "        file_name += \".mp3\"\n",
    "    return \"cv-{}\".format(lang) + \"/clips/\" + file_name\n",
    "\n",
    "\n",
    "def count_phonemes(lang, text):\n",
    "    phoneme_sequence = phonemize(text, language=lang, backend=\"espeak\").replace(\"ʲ\", \"\")\n",
    "    words = phoneme_sequence.split()\n",
    "    return sum(len(word) for word in words)"
   ],
   "metadata": {
    "collapsed": false
   },
   "id": "647b5a48bd7c3a5c",
   "execution_count": null
  },
  {
   "cell_type": "code",
   "outputs": [],
   "source": [
    "dataframes = []\n",
    "for language in languages:\n",
    "    df = get_source_metadata(language)\n",
    "    df = handle_source_metadata(language, df)\n",
    "    dataframes.append(df)\n",
    "\n",
    "result = pd.concat(dataframes, ignore_index=False)\n",
    "result = result.sample(frac=1, random_state=42)\n",
    "result = result.reset_index(drop=True)\n",
    "\n",
    "result.to_csv(output_file_name, sep='\\t', index=False)"
   ],
   "metadata": {
    "collapsed": false
   },
   "id": "f922631c9467d622",
   "execution_count": null
  }
 ],
 "metadata": {
  "kernelspec": {
   "display_name": "Python 3",
   "language": "python",
   "name": "python3"
  },
  "language_info": {
   "codemirror_mode": {
    "name": "ipython",
    "version": 2
   },
   "file_extension": ".py",
   "mimetype": "text/x-python",
   "name": "python",
   "nbconvert_exporter": "python",
   "pygments_lexer": "ipython2",
   "version": "2.7.6"
  }
 },
 "nbformat": 4,
 "nbformat_minor": 5
}
