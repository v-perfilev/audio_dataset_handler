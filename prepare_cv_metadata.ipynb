{
 "cells": [
  {
   "cell_type": "code",
   "id": "initial_id",
   "metadata": {
    "collapsed": true
   },
   "source": [
    "import os\n",
    "import re\n",
    "\n",
    "import pandas as pd\n",
    "import pyphen\n",
    "from tqdm.auto import tqdm\n",
    "\n",
    "tqdm.pandas()"
   ],
   "outputs": [],
   "execution_count": null
  },
  {
   "cell_type": "code",
   "source": [
    "# REQUIREMENTS\n",
    "# download source files in ../audio_data\n",
    "\n",
    "languages = [\"en\", \"de\", \"ru\"]\n",
    "\n",
    "source_path = \"../_audio_data/\"\n",
    "output_dir = \"target/\"\n",
    "os.makedirs(output_dir, exist_ok=True)\n",
    "output_file_name = output_dir + \"cv_metadata.tsv\"\n",
    "\n",
    "min_up_votes = 2\n",
    "max_down_votes = 0\n",
    "limit_per_language = 5000"
   ],
   "metadata": {
    "collapsed": false
   },
   "id": "cdc1653c2a5651ff",
   "outputs": [],
   "execution_count": null
  },
  {
   "cell_type": "code",
   "source": [
    "def get_source_metadata(lang):\n",
    "    source_metadata_path = os.path.abspath(source_path + \"cv-{}/validated.tsv\".format(lang))\n",
    "    return pd.read_csv(source_metadata_path, delimiter='\\t')\n",
    "\n",
    "\n",
    "def handle_source_metadata(lang, meta):\n",
    "    print(\"Processing lang: {}\".format(lang))\n",
    "\n",
    "    meta = meta[(meta['down_votes'] <= max_down_votes) & (meta['up_votes'] >= min_up_votes)]\n",
    "    meta = meta.sort_values(by='up_votes', ascending=False).head(limit_per_language)\n",
    "    meta = meta[[\"path\", \"sentence\"]]\n",
    "    meta['lang'] = lang\n",
    "\n",
    "    print(\"Processing 'path' for lang: {}\".format(lang))\n",
    "    meta['path'] = meta.progress_apply(lambda row: prepare_path(lang, row['path']), axis=1)\n",
    "\n",
    "    print(\"Processing 'syllable_count' for lang: {}\".format(lang))\n",
    "    dic = pyphen.Pyphen(lang=lang)\n",
    "    meta['syllable_count'] = meta['sentence'].progress_apply(lambda text: count_syllables(text, dic))\n",
    "\n",
    "    return meta\n",
    "\n",
    "\n",
    "def prepare_path(lang, file_name):\n",
    "    if not file_name.endswith(\".mp3\"):\n",
    "        file_name += \".mp3\"\n",
    "    return \"cv-{}\".format(lang) + \"/clips/\" + file_name\n",
    "\n",
    "\n",
    "def count_syllables(line, dic):\n",
    "    handled_line = dic.inserted(line)\n",
    "    cleaned_line = re.sub(r'[^\\w\\s-]', '', handled_line, flags=re.UNICODE)\n",
    "    cleaned_line = re.sub(r'[-_]', ' ', cleaned_line)\n",
    "    divided_line = cleaned_line.split(' ')\n",
    "    divided_line = [line for line in divided_line if line]\n",
    "    return len(divided_line)"
   ],
   "metadata": {
    "collapsed": false
   },
   "id": "647b5a48bd7c3a5c",
   "outputs": [],
   "execution_count": null
  },
  {
   "cell_type": "code",
   "source": [
    "dataframes = []\n",
    "for language in languages:\n",
    "    df = get_source_metadata(language)\n",
    "    df = handle_source_metadata(language, df)\n",
    "    dataframes.append(df)\n",
    "\n",
    "result = pd.concat(dataframes, ignore_index=False)\n",
    "result = result.sample(frac=1, random_state=42)\n",
    "result = result.reset_index(drop=True)\n",
    "\n",
    "result.to_csv(output_file_name, sep='\\t', index=False)"
   ],
   "metadata": {
    "collapsed": false
   },
   "id": "f922631c9467d622",
   "outputs": [],
   "execution_count": null
  }
 ],
 "metadata": {
  "kernelspec": {
   "display_name": "Python 3",
   "language": "python",
   "name": "python3"
  },
  "language_info": {
   "codemirror_mode": {
    "name": "ipython",
    "version": 2
   },
   "file_extension": ".py",
   "mimetype": "text/x-python",
   "name": "python",
   "nbconvert_exporter": "python",
   "pygments_lexer": "ipython2",
   "version": "2.7.6"
  }
 },
 "nbformat": 4,
 "nbformat_minor": 5
}
