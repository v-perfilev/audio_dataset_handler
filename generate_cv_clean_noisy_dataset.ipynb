{
 "cells": [
  {
   "cell_type": "code",
   "id": "initial_id",
   "metadata": {
    "collapsed": true
   },
   "source": [
    "import os\n",
    "\n",
    "import pandas as pd\n",
    "import torch\n",
    "\n",
    "from datasets.cv_clean_noisy_dataset import CvCleanNoisyDataset\n",
    "from utils.file_utils import get_file_paths"
   ],
   "outputs": [],
   "execution_count": null
  },
  {
   "cell_type": "code",
   "source": [
    "# REQUIREMENTS\n",
    "# download source files in ../audio_data\n",
    "# generate metadata file\n",
    "# install ffmpeg\n",
    "\n",
    "data_dir = '../_audio_data'\n",
    "sound_dir = '/UrbanSound8K/audio'\n",
    "metadata_path = 'target/cv_metadata.tsv'\n",
    "\n",
    "output_dir = '../_datasets/'\n",
    "os.makedirs(output_dir, exist_ok=True)\n",
    "output_file_name = output_dir + \"cv_clean_noisy_dataset.pt\"\n",
    "\n",
    "dataset_size = 5000"
   ],
   "metadata": {
    "collapsed": false
   },
   "id": "b3adc5281ecfcb1",
   "outputs": [],
   "execution_count": null
  },
  {
   "cell_type": "code",
   "source": [
    "clean_metadata = pd.read_csv(metadata_path, delimiter='\\t')\n",
    "clean_metadata['abs_path'] = os.path.abspath(data_dir) + '/' + clean_metadata['path']\n",
    "clean_files = clean_metadata['abs_path'].tolist()"
   ],
   "metadata": {
    "collapsed": false
   },
   "id": "556b6af213a33197",
   "outputs": [],
   "execution_count": null
  },
  {
   "cell_type": "code",
   "source": [
    "sounds_path = os.path.abspath(data_dir + sound_dir)\n",
    "sound_files = get_file_paths([sounds_path], 'wav')"
   ],
   "metadata": {
    "collapsed": false
   },
   "id": "38c6fd8e02fc584d",
   "outputs": [],
   "execution_count": null
  },
  {
   "metadata": {},
   "cell_type": "code",
   "source": "dataset = CvCleanNoisyDataset(clean_files, sound_files, dataset_size)",
   "id": "1c5cde17798d5e48",
   "outputs": [],
   "execution_count": null
  },
  {
   "cell_type": "code",
   "source": [
    "torch.save(dataset, output_file_name)"
   ],
   "metadata": {
    "collapsed": false
   },
   "id": "746773aceb6a9642",
   "outputs": [],
   "execution_count": null
  }
 ],
 "metadata": {
  "kernelspec": {
   "display_name": "Python 3",
   "language": "python",
   "name": "python3"
  },
  "language_info": {
   "codemirror_mode": {
    "name": "ipython",
    "version": 2
   },
   "file_extension": ".py",
   "mimetype": "text/x-python",
   "name": "python",
   "nbconvert_exporter": "python",
   "pygments_lexer": "ipython2",
   "version": "2.7.6"
  }
 },
 "nbformat": 4,
 "nbformat_minor": 5
}
