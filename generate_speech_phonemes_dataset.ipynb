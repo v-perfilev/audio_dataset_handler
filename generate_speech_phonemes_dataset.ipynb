{
 "cells": [
  {
   "cell_type": "code",
   "execution_count": null,
   "id": "initial_id",
   "metadata": {
    "collapsed": true
   },
   "outputs": [],
   "source": [
    "import os\n",
    "\n",
    "import pandas as pd\n",
    "import torch\n",
    "\n",
    "from datasets.speech_phonemes_dataset import SpeechPhonemesDataset"
   ]
  },
  {
   "cell_type": "code",
   "outputs": [],
   "source": [
    "# TODO download source files in ../audio_data\n",
    "# TODO generate metadata file\n",
    "# TODO install ffmpeg\n",
    "\n",
    "data_dir = '../_audio_data'\n",
    "metadata_path = 'target/common_voice_metadata.tsv'\n",
    "output_dir = '../_datasets/'\n",
    "os.makedirs(output_dir, exist_ok=True)\n",
    "output_file_name = output_dir + \"speech_phonemes_dataset.pt\""
   ],
   "metadata": {
    "collapsed": false
   },
   "id": "b3adc5281ecfcb1",
   "execution_count": null
  },
  {
   "cell_type": "code",
   "outputs": [],
   "source": [
    "metadata = pd.read_csv(metadata_path, delimiter='\\t')\n",
    "metadata['abs_path'] = os.path.abspath(data_dir) + '/' + metadata['path']\n",
    "file_phoneme_tuples = metadata[['abs_path', 'phoneme_count']].values.tolist()"
   ],
   "metadata": {
    "collapsed": false
   },
   "id": "556b6af213a33197",
   "execution_count": null
  },
  {
   "cell_type": "code",
   "outputs": [],
   "source": [
    "dataset = SpeechPhonemesDataset(file_phoneme_tuples, 5000)"
   ],
   "metadata": {
    "collapsed": false
   },
   "id": "1c5cde17798d5e48",
   "execution_count": null
  },
  {
   "cell_type": "code",
   "outputs": [],
   "source": [
    "torch.save(dataset, output_file_name)"
   ],
   "metadata": {
    "collapsed": false
   },
   "id": "746773aceb6a9642",
   "execution_count": null
  }
 ],
 "metadata": {
  "kernelspec": {
   "display_name": "Python 3",
   "language": "python",
   "name": "python3"
  },
  "language_info": {
   "codemirror_mode": {
    "name": "ipython",
    "version": 2
   },
   "file_extension": ".py",
   "mimetype": "text/x-python",
   "name": "python",
   "nbconvert_exporter": "python",
   "pygments_lexer": "ipython2",
   "version": "2.7.6"
  }
 },
 "nbformat": 4,
 "nbformat_minor": 5
}
