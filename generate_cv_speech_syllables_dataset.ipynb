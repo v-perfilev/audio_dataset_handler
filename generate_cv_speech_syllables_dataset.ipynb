{
 "cells": [
  {
   "cell_type": "code",
   "id": "initial_id",
   "metadata": {
    "collapsed": true
   },
   "source": [
    "import os\n",
    "\n",
    "import pandas as pd\n",
    "import torch\n",
    "\n",
    "from datasets.cv_speech_syllables_dataset import CvSpeechSyllablesDataset"
   ],
   "outputs": [],
   "execution_count": null
  },
  {
   "cell_type": "code",
   "source": [
    "# REQUIREMENTS\n",
    "# download source files in ../audio_data\n",
    "# generate metadata file\n",
    "\n",
    "data_dir = '../_audio_data'\n",
    "metadata_path = 'target/cv_metadata.tsv'\n",
    "output_dir = '../_datasets/'\n",
    "os.makedirs(output_dir, exist_ok=True)\n",
    "output_file_name = output_dir + \"cv_speech_syllables_dataset.pt\"\n",
    "\n",
    "files_count = 30000"
   ],
   "metadata": {
    "collapsed": false
   },
   "id": "b3adc5281ecfcb1",
   "outputs": [],
   "execution_count": null
  },
  {
   "cell_type": "code",
   "source": [
    "metadata = pd.read_csv(metadata_path, delimiter='\\t')\n",
    "metadata['abs_path'] = os.path.abspath(data_dir) + '/' + metadata['path']\n",
    "file_syllable_tuples = metadata[['abs_path', 'syllable_count']].values.tolist()"
   ],
   "metadata": {
    "collapsed": false
   },
   "id": "556b6af213a33197",
   "outputs": [],
   "execution_count": null
  },
  {
   "cell_type": "code",
   "source": "dataset = CvSpeechSyllablesDataset(file_syllable_tuples, files_count)",
   "metadata": {
    "collapsed": false
   },
   "id": "1c5cde17798d5e48",
   "outputs": [],
   "execution_count": null
  },
  {
   "cell_type": "code",
   "source": [
    "torch.save(dataset, output_file_name)"
   ],
   "metadata": {
    "collapsed": false
   },
   "id": "746773aceb6a9642",
   "outputs": [],
   "execution_count": null
  }
 ],
 "metadata": {
  "kernelspec": {
   "display_name": "Python 3",
   "language": "python",
   "name": "python3"
  },
  "language_info": {
   "codemirror_mode": {
    "name": "ipython",
    "version": 2
   },
   "file_extension": ".py",
   "mimetype": "text/x-python",
   "name": "python",
   "nbconvert_exporter": "python",
   "pygments_lexer": "ipython2",
   "version": "2.7.6"
  }
 },
 "nbformat": 4,
 "nbformat_minor": 5
}
