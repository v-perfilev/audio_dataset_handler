{
 "cells": [
  {
   "cell_type": "code",
   "id": "initial_id",
   "metadata": {
    "collapsed": true
   },
   "source": [
    "import os\n",
    "\n",
    "import pandas as pd\n",
    "from phonemizer import phonemize\n",
    "from tqdm.auto import tqdm\n",
    "\n",
    "tqdm.pandas()"
   ],
   "outputs": [],
   "execution_count": null
  },
  {
   "metadata": {},
   "cell_type": "code",
   "source": [
    "espeak_path = '/opt/homebrew/Cellar/espeak/1.48.04_1/lib/libespeak.dylib'\n",
    "os.environ['PHONEMIZER_ESPEAK_LIBRARY'] = espeak_path"
   ],
   "id": "cd4356b11313295f",
   "outputs": [],
   "execution_count": null
  },
  {
   "cell_type": "code",
   "source": [
    "# REQUIREMENTS\n",
    "# download source files in ../audio_data\n",
    "# install espeak and set the variable espeak_path\n",
    "\n",
    "datasets = {\n",
    "    '28spk': 'Valentini-Botinhao/train/28spk/',\n",
    "    '56spk': 'Valentini-Botinhao/train/56spk/',\n",
    "    'test': 'Valentini-Botinhao/test/'\n",
    "}\n",
    "\n",
    "is_test = False\n",
    "source_path = \"../_audio_data/\"\n",
    "output_dir = \"target/\"\n",
    "os.makedirs(output_dir, exist_ok=True)\n",
    "output_file_name = output_dir + \"valentini_metadata.tsv\"\n",
    "\n",
    "limit_per_dataset = 50000"
   ],
   "metadata": {
    "collapsed": false
   },
   "id": "cdc1653c2a5651ff",
   "outputs": [],
   "execution_count": null
  },
  {
   "cell_type": "code",
   "source": [
    "def get_source_metadata(full_path):\n",
    "    log_path = os.path.join(full_path, \"log.txt\")\n",
    "    return pd.read_csv(log_path, sep=' ', header=None, names=['filename', 'environment', 'volume'])\n",
    "\n",
    "\n",
    "def handle_source_metadata(meta, set_name, set_path, full_path):\n",
    "    meta['set'] = set_name\n",
    "\n",
    "    print(\"Processing 'clean_file_path' for set: {}\".format(set_name))\n",
    "    meta['clean_file_path'] = meta['filename'].apply(lambda x: os.path.join(set_path, 'clean', f'{x}.wav'))\n",
    "\n",
    "    print(\"Processing 'noisy_file_path' for set: {}\".format(set_name))\n",
    "    meta['noisy_file_path'] = meta['filename'].apply(lambda x: os.path.join(set_path, 'noisy', f'{x}.wav'))\n",
    "\n",
    "    print(\"Processing 'txt_file_path' for set: {}\".format(set_name))\n",
    "    meta['txt_file_path'] = meta['filename'].apply(lambda x: os.path.join(full_path, 'txt', f'{x}.txt'))\n",
    "\n",
    "    print(\"Processing 'sentence' for set: {}\".format(set_name))\n",
    "    meta['sentence'] = meta['txt_file_path'].progress_apply(read_text_file)\n",
    "\n",
    "    meta.drop('txt_file_path', axis=1, inplace=True)\n",
    "\n",
    "    print(\"Processing 'phoneme_count' for set: {}\".format(set_name))\n",
    "    meta['phoneme_count'] = meta['sentence'].progress_apply(count_phonemes)\n",
    "\n",
    "    return meta\n",
    "\n",
    "\n",
    "def read_text_file(file_path):\n",
    "    try:\n",
    "        with open(file_path, 'r', encoding='utf-8') as file:\n",
    "            return file.read().strip()\n",
    "    except FileNotFoundError:\n",
    "        return None\n",
    "\n",
    "\n",
    "def count_phonemes(text):\n",
    "    phoneme_sequence = phonemize(text, language='en', backend=\"espeak\").replace(\"ʲ\", \"\")\n",
    "    words = phoneme_sequence.split()\n",
    "    return sum(len(word) for word in words)"
   ],
   "metadata": {
    "collapsed": false
   },
   "id": "647b5a48bd7c3a5c",
   "outputs": [],
   "execution_count": null
  },
  {
   "cell_type": "code",
   "source": [
    "dataframes = []\n",
    "for name, sub_path in datasets.items():\n",
    "    path = os.path.abspath(source_path + sub_path)\n",
    "    df = get_source_metadata(path).head(limit_per_dataset)\n",
    "    df = handle_source_metadata(df, name, sub_path, path)\n",
    "    dataframes.append(df)\n",
    "\n",
    "result = pd.concat(dataframes, ignore_index=False)\n",
    "result = result.sample(frac=1, random_state=42)\n",
    "result = result.reset_index(drop=True)\n",
    "\n",
    "result.to_csv(output_file_name, sep='\\t', index=False)"
   ],
   "metadata": {
    "collapsed": false
   },
   "id": "f922631c9467d622",
   "outputs": [],
   "execution_count": null
  }
 ],
 "metadata": {
  "kernelspec": {
   "display_name": "Python 3",
   "language": "python",
   "name": "python3"
  },
  "language_info": {
   "codemirror_mode": {
    "name": "ipython",
    "version": 2
   },
   "file_extension": ".py",
   "mimetype": "text/x-python",
   "name": "python",
   "nbconvert_exporter": "python",
   "pygments_lexer": "ipython2",
   "version": "2.7.6"
  }
 },
 "nbformat": 4,
 "nbformat_minor": 5
}
