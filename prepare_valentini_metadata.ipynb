{
 "cells": [
  {
   "cell_type": "code",
   "id": "initial_id",
   "metadata": {
    "collapsed": true,
    "ExecuteTime": {
     "end_time": "2024-04-21T15:15:45.498765Z",
     "start_time": "2024-04-21T15:15:44.138970Z"
    }
   },
   "source": [
    "import os\n",
    "\n",
    "import pandas as pd\n",
    "from phonemizer import phonemize\n",
    "from tqdm.auto import tqdm\n",
    "\n",
    "tqdm.pandas()"
   ],
   "outputs": [],
   "execution_count": 1
  },
  {
   "metadata": {
    "ExecuteTime": {
     "end_time": "2024-04-21T15:15:45.501494Z",
     "start_time": "2024-04-21T15:15:45.499825Z"
    }
   },
   "cell_type": "code",
   "source": [
    "espeak_path = '/opt/homebrew/Cellar/espeak/1.48.04_1/lib/libespeak.dylib'\n",
    "os.environ['PHONEMIZER_ESPEAK_LIBRARY'] = espeak_path"
   ],
   "id": "cd4356b11313295f",
   "outputs": [],
   "execution_count": 2
  },
  {
   "cell_type": "code",
   "source": [
    "# REQUIREMENTS\n",
    "# download source files in ../audio_data\n",
    "# install espeak and set the variable espeak_path\n",
    "\n",
    "datasets = {\n",
    "    '28spk': 'train/28spk/',\n",
    "    '58spk': 'train/56spk/',\n",
    "    'test': 'test/'\n",
    "}\n",
    "\n",
    "is_test = False\n",
    "source_path = \"../_audio_data/Valentini-Botinhao/\"\n",
    "output_dir = \"target/\"\n",
    "os.makedirs(output_dir, exist_ok=True)\n",
    "output_file_name = output_dir + \"valentini_metadata.tsv\""
   ],
   "metadata": {
    "collapsed": false,
    "ExecuteTime": {
     "end_time": "2024-04-21T15:16:24.185011Z",
     "start_time": "2024-04-21T15:16:24.181084Z"
    }
   },
   "id": "cdc1653c2a5651ff",
   "outputs": [],
   "execution_count": 6
  },
  {
   "cell_type": "code",
   "source": [
    "def get_source_metadata(set_path):\n",
    "    log_path = os.path.join(set_path, \"log.txt\")\n",
    "    return pd.read_csv(log_path, sep=' ', header=None, names=['filename', 'environment', 'volume'])\n",
    "\n",
    "\n",
    "def handle_source_metadata(meta, set_name, set_path):\n",
    "    meta['set'] = set_name\n",
    "\n",
    "    print(\"Processing 'clean_file_path' for set: {}\".format(set_name))\n",
    "    meta['clean_file_path'] = meta['filename'].apply(lambda x: os.path.join(set_path, 'clean', f'{x}.wav'))\n",
    "\n",
    "    print(\"Processing 'noisy_file_path' for set: {}\".format(set_name))\n",
    "    meta['noisy_file_path'] = meta['filename'].apply(lambda x: os.path.join(set_path, 'noisy', f'{x}.wav'))\n",
    "\n",
    "    print(\"Processing 'txt_file_path' for set: {}\".format(set_name))\n",
    "    meta['txt_file_path'] = meta['filename'].apply(lambda x: os.path.join(set_path, 'txt', f'{x}.txt'))\n",
    "\n",
    "    print(\"Processing 'sentence' for set: {}\".format(set_name))\n",
    "    meta['sentence'] = meta['txt_file_path'].progress_apply(read_text_file)\n",
    "\n",
    "    meta.drop('txt_file_path', axis=1, inplace=True)\n",
    "\n",
    "    # print(\"Processing 'phoneme_count' for set: {}\".format(set_name))\n",
    "    # meta['phoneme_count'] = meta['sentence'].progress_apply(count_phonemes)\n",
    "\n",
    "    return meta\n",
    "\n",
    "\n",
    "def read_text_file(file_path):\n",
    "    try:\n",
    "        with open(file_path, 'r', encoding='utf-8') as file:\n",
    "            return file.read().strip()\n",
    "    except FileNotFoundError:\n",
    "        return None\n",
    "\n",
    "\n",
    "def count_phonemes(text):\n",
    "    print(text)\n",
    "    phoneme_sequence = phonemize(text, language='en', backend=\"espeak\").replace(\"ʲ\", \"\")\n",
    "    print(phoneme_sequence)\n",
    "    words = phoneme_sequence.split()\n",
    "    print(words)\n",
    "    return sum(len(word) for word in words)"
   ],
   "metadata": {
    "collapsed": false,
    "ExecuteTime": {
     "end_time": "2024-04-21T15:16:24.605697Z",
     "start_time": "2024-04-21T15:16:24.601065Z"
    }
   },
   "id": "647b5a48bd7c3a5c",
   "outputs": [],
   "execution_count": 7
  },
  {
   "cell_type": "code",
   "source": [
    "dataframes = []\n",
    "for name, sub_path in datasets.items():\n",
    "    path = os.path.abspath(source_path + sub_path)\n",
    "    df = get_source_metadata(path)\n",
    "    df = handle_source_metadata(df, name, path)\n",
    "    dataframes.append(df)\n",
    "\n",
    "result = pd.concat(dataframes, ignore_index=False)\n",
    "result = result.sample(frac=1, random_state=42)\n",
    "result = result.reset_index(drop=True)\n",
    "\n",
    "result.to_csv(output_file_name, sep='\\t', index=False)"
   ],
   "metadata": {
    "collapsed": false,
    "ExecuteTime": {
     "end_time": "2024-04-21T15:16:37.244577Z",
     "start_time": "2024-04-21T15:16:25.120969Z"
    }
   },
   "id": "f922631c9467d622",
   "outputs": [
    {
     "name": "stdout",
     "output_type": "stream",
     "text": [
      "Processing 'clean_file_path' for set: 28spk\n",
      "Processing 'noisy_file_path' for set: 28spk\n",
      "Processing 'txt_file_path' for set: 28spk\n",
      "Processing 'sentence' for set: 28spk\n"
     ]
    },
    {
     "data": {
      "text/plain": [
       "  0%|          | 0/11572 [00:00<?, ?it/s]"
      ],
      "application/vnd.jupyter.widget-view+json": {
       "version_major": 2,
       "version_minor": 0,
       "model_id": "0cb525724189440dba5b9aab29e67a66"
      }
     },
     "metadata": {},
     "output_type": "display_data"
    },
    {
     "name": "stdout",
     "output_type": "stream",
     "text": [
      "Processing 'clean_file_path' for set: 58spk\n",
      "Processing 'noisy_file_path' for set: 58spk\n",
      "Processing 'txt_file_path' for set: 58spk\n",
      "Processing 'sentence' for set: 58spk\n"
     ]
    },
    {
     "data": {
      "text/plain": [
       "  0%|          | 0/23075 [00:00<?, ?it/s]"
      ],
      "application/vnd.jupyter.widget-view+json": {
       "version_major": 2,
       "version_minor": 0,
       "model_id": "f7da284acbaf46ec8c3f3680a034ed13"
      }
     },
     "metadata": {},
     "output_type": "display_data"
    },
    {
     "name": "stdout",
     "output_type": "stream",
     "text": [
      "Processing 'clean_file_path' for set: test\n",
      "Processing 'noisy_file_path' for set: test\n",
      "Processing 'txt_file_path' for set: test\n",
      "Processing 'sentence' for set: test\n"
     ]
    },
    {
     "data": {
      "text/plain": [
       "  0%|          | 0/824 [00:00<?, ?it/s]"
      ],
      "application/vnd.jupyter.widget-view+json": {
       "version_major": 2,
       "version_minor": 0,
       "model_id": "b32923cfc70b4be5b73b0765ef9b2e43"
      }
     },
     "metadata": {},
     "output_type": "display_data"
    }
   ],
   "execution_count": 8
  },
  {
   "metadata": {},
   "cell_type": "code",
   "outputs": [],
   "execution_count": null,
   "source": "",
   "id": "9d0c9caaa6407dc9"
  }
 ],
 "metadata": {
  "kernelspec": {
   "display_name": "Python 3",
   "language": "python",
   "name": "python3"
  },
  "language_info": {
   "codemirror_mode": {
    "name": "ipython",
    "version": 2
   },
   "file_extension": ".py",
   "mimetype": "text/x-python",
   "name": "python",
   "nbconvert_exporter": "python",
   "pygments_lexer": "ipython2",
   "version": "2.7.6"
  }
 },
 "nbformat": 4,
 "nbformat_minor": 5
}
