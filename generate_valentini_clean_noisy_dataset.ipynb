{
 "cells": [
  {
   "cell_type": "code",
   "id": "initial_id",
   "metadata": {
    "collapsed": true
   },
   "source": [
    "import os\n",
    "import random\n",
    "\n",
    "import pandas as pd\n",
    "import torch\n",
    "\n",
    "from datasets.valentini_clean_noisy_dataset import ValentiniCleanNoisyDataset\n",
    "from utils.audio_utils import spectrogram_to_waveform\n",
    "from utils.plot_utils import show_waveform, show_spectrogram"
   ],
   "outputs": [],
   "execution_count": null
  },
  {
   "cell_type": "code",
   "source": [
    "# REQUIREMENTS\n",
    "# download source files in ../audio_data\n",
    "# generate metadata file\n",
    "# install ffmpeg\n",
    "\n",
    "set_type = 'test'\n",
    "\n",
    "data_dir = '../_audio_data'\n",
    "metadata_path = 'target/valentini_metadata.tsv'\n",
    "\n",
    "output_dir = '../_datasets/'\n",
    "os.makedirs(output_dir, exist_ok=True)\n",
    "output_file_name = output_dir + set_type + \"_valentini_clean_noisy_dataset.pt\"\n",
    "\n",
    "files_count = 10000"
   ],
   "metadata": {
    "collapsed": false
   },
   "id": "b3adc5281ecfcb1",
   "outputs": [],
   "execution_count": null
  },
  {
   "cell_type": "code",
   "source": [
    "metadata = pd.read_csv(metadata_path, delimiter='\\t')\n",
    "metadata = metadata[metadata['set'] == set_type]"
   ],
   "metadata": {
    "collapsed": false
   },
   "id": "556b6af213a33197",
   "outputs": [],
   "execution_count": null
  },
  {
   "metadata": {},
   "cell_type": "code",
   "source": [
    "metadata['clean_abs_path'] = os.path.abspath(data_dir) + '/' + metadata['clean_file_path']\n",
    "clean_files = metadata['clean_abs_path'].tolist()"
   ],
   "id": "23dc2ad803016b83",
   "outputs": [],
   "execution_count": null
  },
  {
   "metadata": {},
   "cell_type": "code",
   "source": [
    "metadata['noisy_abs_path'] = os.path.abspath(data_dir) + '/' + metadata['noisy_file_path']\n",
    "noisy_files = metadata['noisy_abs_path'].tolist()"
   ],
   "id": "65083d32576985da",
   "outputs": [],
   "execution_count": null
  },
  {
   "metadata": {},
   "cell_type": "code",
   "source": "dataset = ValentiniCleanNoisyDataset(clean_files, noisy_files, files_count)",
   "id": "1c5cde17798d5e48",
   "outputs": [],
   "execution_count": null
  },
  {
   "cell_type": "code",
   "source": [
    "torch.save(dataset, output_file_name)"
   ],
   "metadata": {
    "collapsed": false
   },
   "id": "746773aceb6a9642",
   "outputs": [],
   "execution_count": null
  },
  {
   "metadata": {},
   "cell_type": "code",
   "source": [
    "idx = random.randint(0, 100)\n",
    "clean_spectrogram = dataset.__getitem__(idx)[1]\n",
    "noisy_spectrogram = dataset.__getitem__(idx)[0]"
   ],
   "id": "c8e2b8a993b24b9f",
   "outputs": [],
   "execution_count": null
  },
  {
   "metadata": {},
   "cell_type": "code",
   "source": [
    "clean_waveform = spectrogram_to_waveform(clean_spectrogram)\n",
    "noisy_waveform = spectrogram_to_waveform(noisy_spectrogram)"
   ],
   "id": "4552274b13b8166f",
   "outputs": [],
   "execution_count": null
  },
  {
   "metadata": {},
   "cell_type": "code",
   "source": [
    "show_spectrogram(clean_waveform, \"Clean spectrogram\")\n",
    "show_spectrogram(noisy_waveform, \"Noisy spectrogram\")"
   ],
   "id": "877ae89faf1984af",
   "outputs": [],
   "execution_count": null
  },
  {
   "metadata": {},
   "cell_type": "code",
   "source": [
    "show_waveform(clean_waveform, \"Clean waveform\")\n",
    "show_waveform(noisy_waveform, \"Noisy waveform\")"
   ],
   "id": "254ffdbbf714dc29",
   "outputs": [],
   "execution_count": null
  }
 ],
 "metadata": {
  "kernelspec": {
   "display_name": "Python 3",
   "language": "python",
   "name": "python3"
  },
  "language_info": {
   "codemirror_mode": {
    "name": "ipython",
    "version": 2
   },
   "file_extension": ".py",
   "mimetype": "text/x-python",
   "name": "python",
   "nbconvert_exporter": "python",
   "pygments_lexer": "ipython2",
   "version": "2.7.6"
  }
 },
 "nbformat": 4,
 "nbformat_minor": 5
}
