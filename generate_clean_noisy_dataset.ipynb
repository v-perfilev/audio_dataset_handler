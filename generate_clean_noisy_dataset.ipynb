{
 "cells": [
  {
   "cell_type": "code",
   "execution_count": null,
   "id": "initial_id",
   "metadata": {
    "collapsed": true
   },
   "outputs": [],
   "source": [
    "import os\n",
    "\n",
    "import pandas as pd\n",
    "import torch\n",
    "\n",
    "from datasets.clean_noisy_dataset import CleanNoisyDataset\n",
    "from utils.file_utils import get_file_paths"
   ]
  },
  {
   "cell_type": "code",
   "outputs": [],
   "source": [
    "# TODO download source files in ../audio_data\n",
    "# TODO generate metadata file\n",
    "# TODO install ffmpeg\n",
    "\n",
    "data_dir = '../audio_data'\n",
    "sound_dir = '/UrbanSound8K/audio'\n",
    "metadata_path = 'target/common_voice_metadata.tsv'\n",
    "output_file_name = 'target/clean_noisy_dataset.pt'"
   ],
   "metadata": {
    "collapsed": false
   },
   "id": "b3adc5281ecfcb1",
   "execution_count": null
  },
  {
   "cell_type": "code",
   "outputs": [],
   "source": [
    "clean_metadata = pd.read_csv(metadata_path, delimiter='\\t')\n",
    "clean_metadata['abs_path'] = os.path.abspath(data_dir) + '/' + clean_metadata['path']\n",
    "clean_files = clean_metadata['abs_path'].tolist()"
   ],
   "metadata": {
    "collapsed": false
   },
   "id": "556b6af213a33197",
   "execution_count": null
  },
  {
   "cell_type": "code",
   "outputs": [],
   "source": [
    "sounds_path = os.path.abspath(data_dir + sound_dir)\n",
    "sound_files = get_file_paths([sounds_path], 'wav')"
   ],
   "metadata": {
    "collapsed": false
   },
   "id": "38c6fd8e02fc584d",
   "execution_count": null
  },
  {
   "cell_type": "code",
   "outputs": [],
   "source": [
    "dataset = CleanNoisyDataset(clean_files, sound_files, 5000)"
   ],
   "metadata": {
    "collapsed": false
   },
   "id": "1c5cde17798d5e48",
   "execution_count": null
  },
  {
   "cell_type": "code",
   "outputs": [],
   "source": [
    "torch.save(dataset, output_file_name)"
   ],
   "metadata": {
    "collapsed": false
   },
   "id": "746773aceb6a9642",
   "execution_count": null
  }
 ],
 "metadata": {
  "kernelspec": {
   "display_name": "Python 3",
   "language": "python",
   "name": "python3"
  },
  "language_info": {
   "codemirror_mode": {
    "name": "ipython",
    "version": 2
   },
   "file_extension": ".py",
   "mimetype": "text/x-python",
   "name": "python",
   "nbconvert_exporter": "python",
   "pygments_lexer": "ipython2",
   "version": "2.7.6"
  }
 },
 "nbformat": 4,
 "nbformat_minor": 5
}
